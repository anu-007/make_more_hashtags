{
  "nbformat": 4,
  "nbformat_minor": 0,
  "metadata": {
    "colab": {
      "provenance": [],
      "authorship_tag": "ABX9TyPuJbtpDGnlLgfuPua2OTIw",
      "include_colab_link": true
    },
    "kernelspec": {
      "name": "python3",
      "display_name": "Python 3"
    },
    "language_info": {
      "name": "python"
    }
  },
  "cells": [
    {
      "cell_type": "markdown",
      "metadata": {
        "id": "view-in-github",
        "colab_type": "text"
      },
      "source": [
        "<a href=\"https://colab.research.google.com/github/anu-007/make_more_hashtags/blob/main/wavenet/make_more_tags_wavenet.ipynb\" target=\"_parent\"><img src=\"https://colab.research.google.com/assets/colab-badge.svg\" alt=\"Open In Colab\"/></a>"
      ]
    },
    {
      "cell_type": "code",
      "execution_count": 74,
      "metadata": {
        "id": "q8PgRsvGLexA"
      },
      "outputs": [],
      "source": [
        "import torch\n",
        "import torch.nn.functional as F\n",
        "import matplotlib.pyplot as plt\n",
        "%matplotlib inline"
      ]
    },
    {
      "cell_type": "code",
      "source": [
        "!wget 'https://raw.githubusercontent.com/anu-007/make_more_hashtags/refs/heads/main/tags.json'"
      ],
      "metadata": {
        "colab": {
          "base_uri": "https://localhost:8080/"
        },
        "id": "nCj7GbEILwtw",
        "outputId": "6d849aa5-374f-4e3a-f9aa-fed52a4910cb"
      },
      "execution_count": 75,
      "outputs": [
        {
          "output_type": "stream",
          "name": "stdout",
          "text": [
            "--2025-09-01 10:24:52--  https://raw.githubusercontent.com/anu-007/make_more_hashtags/refs/heads/main/tags.json\n",
            "Resolving raw.githubusercontent.com (raw.githubusercontent.com)... 185.199.110.133, 185.199.111.133, 185.199.109.133, ...\n",
            "Connecting to raw.githubusercontent.com (raw.githubusercontent.com)|185.199.110.133|:443... connected.\n",
            "HTTP request sent, awaiting response... 200 OK\n",
            "Length: 36129 (35K) [text/plain]\n",
            "Saving to: ‘tags.json.1’\n",
            "\n",
            "\rtags.json.1           0%[                    ]       0  --.-KB/s               \rtags.json.1         100%[===================>]  35.28K  --.-KB/s    in 0.01s   \n",
            "\n",
            "2025-09-01 10:24:53 (3.37 MB/s) - ‘tags.json.1’ saved [36129/36129]\n",
            "\n"
          ]
        }
      ]
    },
    {
      "cell_type": "code",
      "source": [
        "import json\n",
        "\n",
        "tags = []\n",
        "with open('tags.json', 'r') as file:\n",
        "  data = json.load(file)\n",
        "  for d in data:\n",
        "    tags.append(d[0])\n",
        "tags[:5]"
      ],
      "metadata": {
        "colab": {
          "base_uri": "https://localhost:8080/"
        },
        "id": "ZqW_dD9SMdyM",
        "outputId": "5b4c8566-3da7-4133-a7fa-8ee197e2f8dc"
      },
      "execution_count": 76,
      "outputs": [
        {
          "output_type": "execute_result",
          "data": {
            "text/plain": [
              "['hiring', 'engineeringjobs', 'hardware', 'hiring', 'nowhiring']"
            ]
          },
          "metadata": {},
          "execution_count": 76
        }
      ]
    },
    {
      "cell_type": "code",
      "source": [
        "vocab = sorted(list(set(''.join(tags))))\n",
        "\n",
        "stoi = {s:i+1 for i,s in enumerate(vocab)}\n",
        "stoi['.'] = 0\n",
        "itos = {i:s for s, i in stoi.items()}"
      ],
      "metadata": {
        "id": "kN-LkFY9M946"
      },
      "execution_count": 77,
      "outputs": []
    },
    {
      "cell_type": "code",
      "source": [
        "import random\n",
        "random.seed(42)\n",
        "random.shuffle(tags)"
      ],
      "metadata": {
        "id": "cP9y3R2FNy3G"
      },
      "execution_count": 78,
      "outputs": []
    },
    {
      "cell_type": "code",
      "source": [
        "block_size = 8\n",
        "\n",
        "def build_dataset(tags):\n",
        "  X, Y = [], []\n",
        "\n",
        "  for t in tags:\n",
        "    context = [0]*block_size\n",
        "    for ch in t + '.':\n",
        "      ix = stoi[ch]\n",
        "      X.append(context)\n",
        "      Y.append(ix)\n",
        "      context = context[1:] + [ix]\n",
        "\n",
        "  X = torch.tensor(X)\n",
        "  Y = torch.tensor(Y)\n",
        "  return X, Y\n",
        "\n",
        "n1 = int(0.8*len(tags))\n",
        "n2 = int(0.9*len(tags))\n",
        "Xtr, Ytr = build_dataset(tags[:n1])\n",
        "Xdev, Ydev = build_dataset(tags[n1:n2])\n",
        "Xte, Yte = build_dataset(tags[n2:])"
      ],
      "metadata": {
        "id": "yALFRcy3N8Ig"
      },
      "execution_count": 98,
      "outputs": []
    },
    {
      "cell_type": "code",
      "source": [
        "for x, y in zip(Xtr[:20], Ytr[:20]):\n",
        "  print(''.join(itos[ix.item()]for ix in x), '--->', itos[y.item()])"
      ],
      "metadata": {
        "colab": {
          "base_uri": "https://localhost:8080/"
        },
        "id": "gDvZjs8zPV4A",
        "outputId": "389879b9-f043-4185-c11b-fdcb92469ce6"
      },
      "execution_count": 80,
      "outputs": [
        {
          "output_type": "stream",
          "name": "stdout",
          "text": [
            "........ ---> a\n",
            ".......a ---> n\n",
            "......an ---> a\n",
            ".....ana ---> l\n",
            "....anal ---> y\n",
            "...analy ---> t\n",
            "..analyt ---> i\n",
            ".analyti ---> c\n",
            "analytic ---> s\n",
            "nalytics ---> .\n",
            "........ ---> s\n",
            ".......s ---> e\n",
            "......se ---> l\n",
            ".....sel ---> f\n",
            "....self ---> l\n",
            "...selfl ---> o\n",
            "..selflo ---> v\n",
            ".selflov ---> e\n",
            "selflove ---> .\n",
            "........ ---> P\n"
          ]
        }
      ]
    },
    {
      "cell_type": "code",
      "source": [
        "class Linear:\n",
        "  def __init__(self, fan_in, fan_out, bias=True):\n",
        "    self.weight = torch.randn((fan_in, fan_out)) / fan_in*0.5\n",
        "    self.bias = torch.zeros(fan_out) if bias else None\n",
        "\n",
        "  def __call__(self, x):\n",
        "    self.out = x @ self.weight\n",
        "    if self.bias is not None:\n",
        "      self.out += self.bias\n",
        "    return self.out\n",
        "\n",
        "  def parameters(self):\n",
        "    return [self.weight] + ([] if self.bias is None else [self.bias])\n",
        "\n",
        "class BatchNorm1d:\n",
        "\n",
        "  def __init__(self, dim, eps=1e-5, momentum=0.1):\n",
        "    self.eps = eps\n",
        "    self.momentum = momentum\n",
        "    self.training = True\n",
        "    self.gamma = torch.ones(dim)\n",
        "    self.beta = torch.zeros(dim)\n",
        "\n",
        "    self.running_mean = torch.zeros(dim)\n",
        "    self.running_var = torch.ones(dim)\n",
        "\n",
        "  def __call__(self, x):\n",
        "    if self.training:\n",
        "      if x.ndim == 2:\n",
        "        dim = 0\n",
        "      elif x.ndim == 3:\n",
        "        dim = (0, 1)\n",
        "      xmean = x.mean(dim, keepdim=True)\n",
        "      xvar = x.var(dim, keepdim=True)\n",
        "    else:\n",
        "      xmean = self.running_mean\n",
        "      xvar = self.running_var\n",
        "    xhat = (x - xmean) / torch.sqrt(xvar + self.eps)\n",
        "    self.out = self.gamma * xhat + self.beta\n",
        "\n",
        "    if self.training:\n",
        "      with torch.no_grad():\n",
        "        self.running_mean = (1 - self.momentum) * self.running_mean + self.momentum * xmean\n",
        "        self.running_var = (1 - self.momentum) * self.running_var + self.momentum * xvar\n",
        "\n",
        "    return self.out\n",
        "\n",
        "  def parameters(self):\n",
        "    return [self.gamma, self.beta]\n",
        "\n",
        "\n",
        "class Tanh:\n",
        "  def __call__(self, x):\n",
        "    self.out = torch.tanh(x)\n",
        "    return self.out\n",
        "\n",
        "  def parameters(self):\n",
        "    return []\n",
        "\n",
        "class Embedding:\n",
        "  def __init__(self, num_embeddings, embedding_dim):\n",
        "    self.weight = torch.randn((num_embeddings, embedding_dim))\n",
        "\n",
        "  def __call__(self, IX):\n",
        "    self.out = self.weight[IX]\n",
        "    return self.out\n",
        "\n",
        "  def parameters(self):\n",
        "    return [self.weight]\n",
        "\n",
        "class FlattenConsecutive:\n",
        "  def __init__(self, n):\n",
        "    self.n = n\n",
        "\n",
        "  def __call__(self, x):\n",
        "    B, T, C = x.shape\n",
        "    x = x.view(B, T//self.n, C*self.n)\n",
        "    if x.shape[1] == 1:\n",
        "      x = x.squeeze(1)\n",
        "    self.out = x\n",
        "    return self.out\n",
        "\n",
        "  def parameters(self):\n",
        "    return []\n",
        "\n",
        "class Sequential:\n",
        "  def __init__(self, layers):\n",
        "    self.layers = layers\n",
        "\n",
        "  def __call__(self, x):\n",
        "    for layer in self.layers:\n",
        "      x = layer(x)\n",
        "    self.out = x\n",
        "    return self.out\n",
        "\n",
        "  def parameters(self):\n",
        "    return [p for layer in self.layers for p in layer.parameters()]"
      ],
      "metadata": {
        "id": "0ylwwXnVP3qM"
      },
      "execution_count": 99,
      "outputs": []
    },
    {
      "cell_type": "code",
      "source": [
        "torch.manual_seed(42)"
      ],
      "metadata": {
        "colab": {
          "base_uri": "https://localhost:8080/"
        },
        "id": "IWsaYZJwSzTB",
        "outputId": "3980b767-7574-431c-884b-f49598f6722b"
      },
      "execution_count": 82,
      "outputs": [
        {
          "output_type": "execute_result",
          "data": {
            "text/plain": [
              "<torch._C.Generator at 0x7a4bb657bef0>"
            ]
          },
          "metadata": {},
          "execution_count": 82
        }
      ]
    },
    {
      "cell_type": "code",
      "source": [
        "vocab_len = max(stoi.values()) + 1\n",
        "n_embed = 5\n",
        "n_hidden = 69\n",
        "\n",
        "model = Sequential([\n",
        "    Embedding(vocab_len, n_embed),\n",
        "    FlattenConsecutive(2), Linear(n_embed*2, n_hidden, bias=False), BatchNorm1d(n_hidden), Tanh(),\n",
        "    FlattenConsecutive(2), Linear(n_hidden*2, n_hidden, bias=False), BatchNorm1d(n_hidden), Tanh(),\n",
        "    FlattenConsecutive(2), Linear(n_hidden*2, n_hidden, bias=False), BatchNorm1d(n_hidden), Tanh(),\n",
        "    Linear(n_hidden, vocab_len)\n",
        "])\n",
        "\n",
        "with torch.no_grad():\n",
        "  layers[-1].weight *= 0.1\n",
        "\n",
        "parameters = model.parameters()\n",
        "print(sum(p.nelement() for p in parameters))\n",
        "for p in parameters:\n",
        "  p.requires_grad = True"
      ],
      "metadata": {
        "colab": {
          "base_uri": "https://localhost:8080/"
        },
        "id": "ecKuivpQS3KL",
        "outputId": "5c2ce08b-b63a-4fbe-d984-08d9de50ed21"
      },
      "execution_count": 100,
      "outputs": [
        {
          "output_type": "stream",
          "name": "stdout",
          "text": [
            "23973\n"
          ]
        }
      ]
    },
    {
      "cell_type": "code",
      "source": [
        "max_step = 30000\n",
        "batch_size = 32\n",
        "lossi = []\n",
        "\n",
        "for i in range(max_step):\n",
        "  #minibatch\n",
        "  ix = torch.randint(0, Xtr.shape[0], (batch_size,))\n",
        "  Xb = Xtr[ix]\n",
        "  Yb = Ytr[ix]\n",
        "\n",
        "  # forward pass\n",
        "  logits = model(Xb)\n",
        "  loss = F.cross_entropy(logits, Yb) # loss function\n",
        "\n",
        "  # backward pass\n",
        "  for p in parameters:\n",
        "    p.grad = None\n",
        "  loss.backward()\n",
        "\n",
        "  # update\n",
        "  lr = 0.001 if i < 15000 else 0.0001\n",
        "  for p in parameters:\n",
        "    p.data += -lr * p.grad\n",
        "\n",
        "  # track stats\n",
        "  if i % 1000 == 0:\n",
        "    print(f'{i:7d}/{max_step:7d} : {loss.item():4f}')\n",
        "  lossi.append(loss.log10().item())"
      ],
      "metadata": {
        "colab": {
          "base_uri": "https://localhost:8080/"
        },
        "id": "fECX1meNUCYi",
        "outputId": "b9b84ec2-106a-40f9-b920-3d60e8ab5675"
      },
      "execution_count": 101,
      "outputs": [
        {
          "output_type": "stream",
          "name": "stdout",
          "text": [
            "      0/  30000 : 3.935018\n",
            "   1000/  30000 : 3.580650\n",
            "   2000/  30000 : 3.406801\n",
            "   3000/  30000 : 3.194032\n",
            "   4000/  30000 : 2.822662\n",
            "   5000/  30000 : 2.870268\n",
            "   6000/  30000 : 2.782472\n",
            "   7000/  30000 : 3.198720\n",
            "   8000/  30000 : 2.149829\n",
            "   9000/  30000 : 2.509790\n",
            "  10000/  30000 : 2.178983\n",
            "  11000/  30000 : 1.951573\n",
            "  12000/  30000 : 2.027407\n",
            "  13000/  30000 : 1.884646\n",
            "  14000/  30000 : 2.680944\n",
            "  15000/  30000 : 1.464303\n",
            "  16000/  30000 : 1.998484\n",
            "  17000/  30000 : 1.940620\n",
            "  18000/  30000 : 1.885246\n",
            "  19000/  30000 : 1.413008\n",
            "  20000/  30000 : 1.612215\n",
            "  21000/  30000 : 1.643467\n",
            "  22000/  30000 : 1.786240\n",
            "  23000/  30000 : 1.548077\n",
            "  24000/  30000 : 1.253859\n",
            "  25000/  30000 : 1.676139\n",
            "  26000/  30000 : 1.843355\n",
            "  27000/  30000 : 1.774904\n",
            "  28000/  30000 : 1.348477\n",
            "  29000/  30000 : 1.630881\n"
          ]
        }
      ]
    },
    {
      "cell_type": "code",
      "source": [
        "plt.plot(torch.tensor(lossi).view(-1, 100).mean(1))"
      ],
      "metadata": {
        "colab": {
          "base_uri": "https://localhost:8080/",
          "height": 448
        },
        "id": "jEODxRRAaMhF",
        "outputId": "edc23a00-ad26-4169-9262-5a0d5a629dad"
      },
      "execution_count": 102,
      "outputs": [
        {
          "output_type": "execute_result",
          "data": {
            "text/plain": [
              "[<matplotlib.lines.Line2D at 0x7a4aa83815e0>]"
            ]
          },
          "metadata": {},
          "execution_count": 102
        },
        {
          "output_type": "display_data",
          "data": {
            "text/plain": [
              "<Figure size 640x480 with 1 Axes>"
            ],
            "image/png": "[encoded data removed]"
          },
          "metadata": {}
        }
      ]
    },
    {
      "cell_type": "code",
      "source": [
        "for layer in model.layers:\n",
        "  layer.training = False"
      ],
      "metadata": {
        "id": "aL6EEOY-eIhR"
      },
      "execution_count": 103,
      "outputs": []
    },
    {
      "cell_type": "code",
      "source": [
        "@torch.no_grad()\n",
        "def split_loss(split):\n",
        "  x, y = {\n",
        "    'train': (Xtr, Ytr),\n",
        "    'dev': (Xdev, Ydev),\n",
        "    'test': (Xte, Yte),\n",
        "  }[split]\n",
        "  logits = model(x)\n",
        "  loss = F.cross_entropy(logits, y)\n",
        "  print(split, loss.item())\n",
        "\n",
        "split_loss('train')\n",
        "split_loss('dev')"
      ],
      "metadata": {
        "colab": {
          "base_uri": "https://localhost:8080/"
        },
        "id": "ZpYrReDMeXaY",
        "outputId": "8b9803ee-aead-4fba-f4b0-a8abe8b25cfe"
      },
      "execution_count": 104,
      "outputs": [
        {
          "output_type": "stream",
          "name": "stdout",
          "text": [
            "train 1.6104060411453247\n",
            "dev 2.31227970123291\n"
          ]
        }
      ]
    },
    {
      "cell_type": "code",
      "source": [
        "#sample from the model\n",
        "g = torch.Generator().manual_seed(2147483647 + 10)\n",
        "\n",
        "for _ in range(20):\n",
        "  out = []\n",
        "  context = [0] * block_size\n",
        "  while True:\n",
        "    logits = model(torch.tensor([context]))\n",
        "    probs = F.softmax(logits, dim=1)\n",
        "    ix = torch.multinomial(probs, num_samples=1, replacement=True, generator=g).item()\n",
        "    context = context[1:] + [ix]\n",
        "    out.append(ix)\n",
        "    if ix == 0:\n",
        "      break\n",
        "  print(''.join(itos[i] for i in out))"
      ],
      "metadata": {
        "colab": {
          "base_uri": "https://localhost:8080/"
        },
        "id": "mgjUPjUBeqWH",
        "outputId": "a00e1d57-427e-4610-d6c2-2173e57337e2"
      },
      "execution_count": 105,
      "outputs": [
        {
          "output_type": "stream",
          "name": "stdout",
          "text": [
            "BvhiAzkPipUftrreales.\n",
            "fucFicowrience.\n",
            "lL5ortuAg.\n",
            "LosiGlEtoatekaJgiudBatacpis.\n",
            "luliJ.\n",
            "yucraAnarsatze.\n",
            "BICjras.\n",
            "cestaCi.\n",
            "brony.\n",
            "utaldcConrunsentWoclience.\n",
            "MomVFteshcencWVstrevecri5W.\n",
            "Ccure.\n",
            "fitness.\n",
            "retiebftiutonitEranMSeeLs.\n",
            "muviHDlltipSneSOCiferroncentUonLu.\n",
            "Dwuiti.\n",
            "mevpeleerp.\n",
            "actxenlisicVenlAwabeotLisDtOilisic.\n",
            "mentalOolics.\n",
            "bricC.\n"
          ]
        }
      ]
    }
  ]
}