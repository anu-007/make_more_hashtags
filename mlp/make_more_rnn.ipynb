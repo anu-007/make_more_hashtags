{
  "nbformat": 4,
  "nbformat_minor": 0,
  "metadata": {
    "colab": {
      "provenance": [],
      "authorship_tag": "ABX9TyP9AQnWwGHblvHMxN/qFVOG",
      "include_colab_link": true
    },
    "kernelspec": {
      "name": "python3",
      "display_name": "Python 3"
    },
    "language_info": {
      "name": "python"
    }
  },
  "cells": [
    {
      "cell_type": "markdown",
      "metadata": {
        "id": "view-in-github",
        "colab_type": "text"
      },
      "source": [
        "<a href=\"https://colab.research.google.com/github/anu-007/make_more_hashtags/blob/main/mlp/make_more_rnn.ipynb\" target=\"_parent\"><img src=\"https://colab.research.google.com/assets/colab-badge.svg\" alt=\"Open In Colab\"/></a>"
      ]
    },
    {
      "cell_type": "code",
      "execution_count": 3,
      "metadata": {
        "id": "UAREc27vc30B"
      },
      "outputs": [],
      "source": [
        "import torch\n",
        "import json\n",
        "import matplotlib.pyplot as plt\n",
        "import torch.nn.functional as F\n",
        "%matplotlib inline"
      ]
    },
    {
      "cell_type": "code",
      "source": [
        "tags = []\n",
        "with open('./tags.json', 'r') as file:\n",
        "    data = json.load(file)\n",
        "    for d in data:\n",
        "      tags.append(d[0])\n",
        "len(tags)"
      ],
      "metadata": {
        "colab": {
          "base_uri": "https://localhost:8080/"
        },
        "id": "TMKjkg6KdPR6",
        "outputId": "c940e125-c077-4c5c-cdac-411f9949b5fc"
      },
      "execution_count": 5,
      "outputs": [
        {
          "output_type": "execute_result",
          "data": {
            "text/plain": [
              "681"
            ]
          },
          "metadata": {},
          "execution_count": 5
        }
      ]
    },
    {
      "cell_type": "code",
      "source": [
        "vocab = sorted(list(set(''.join(tags))))\n",
        "stoi = {s:i+1 for i, s in enumerate(vocab)}\n",
        "stoi['.'] = 0\n",
        "itos = {i:s for s, i in stoi.items()}"
      ],
      "metadata": {
        "id": "HTBynjA6dzW9"
      },
      "execution_count": 7,
      "outputs": []
    },
    {
      "cell_type": "code",
      "source": [
        "import random\n",
        "\n",
        "# test, train, dev split for dataset\n",
        "block_size = 3\n",
        "def build_dataset(tags):\n",
        "  X, Y = [], []\n",
        "  for tag in tags:\n",
        "    context = [0] * block_size\n",
        "    for ch in tag + '.':\n",
        "      ix = stoi[ch]\n",
        "      X.append(context)\n",
        "      Y.append(ix)\n",
        "      context = context[1:] + [ix]\n",
        "\n",
        "  X = torch.tensor(X)\n",
        "  Y = torch.tensor(Y)\n",
        "  print(X.shape, Y.shape)\n",
        "  return X, Y\n",
        "\n",
        "random.seed(42)\n",
        "random.shuffle(tags)\n",
        "n1 = int(0.8*len(tags))\n",
        "n2 = int(0.9*len(tags))\n",
        "\n",
        "Xtr, Ytr = build_dataset(tags[:n1])\n",
        "Xdev, Ydev = build_dataset(tags[n1:n2])\n",
        "Xte, Yte = build_dataset(tags[n2:])"
      ],
      "metadata": {
        "colab": {
          "base_uri": "https://localhost:8080/"
        },
        "id": "JJAJelCWePAx",
        "outputId": "eeeadb1e-0126-423d-f5c8-5be58c31778b"
      },
      "execution_count": 36,
      "outputs": [
        {
          "output_type": "stream",
          "name": "stdout",
          "text": [
            "torch.Size([6591, 3]) torch.Size([6591])\n",
            "torch.Size([808, 3]) torch.Size([808])\n",
            "torch.Size([880, 3]) torch.Size([880])\n"
          ]
        }
      ]
    },
    {
      "cell_type": "code",
      "source": [
        "vocab_len = max(stoi.values()) + 1\n",
        "n_hidden = 100\n",
        "n_embed = 2\n",
        "\n",
        "g = torch.Generator().manual_seed(2147483647)\n",
        "C = torch.randn((vocab_len, n_embed), generator=g)\n",
        "W1 = torch.randn((n_embed * block_size, n_hidden), generator=g) * (5/3) / ((n_embed * block_size)**0.5)\n",
        "# B1 = torch.randn(n_hidden, generator=g) * 0.01\n",
        "W2 = torch.randn((n_hidden, vocab_len), generator=g) * 0.01\n",
        "B2 = torch.randn(vocab_len, generator=g) * 0\n",
        "\n",
        "bngain = torch.ones((1, n_hidden))\n",
        "bnbias = torch.zeros((1, n_hidden))\n",
        "bnmean_running = torch.zeros((1, n_hidden))\n",
        "bnstd_running = torch.ones((1, n_hidden))\n",
        "\n",
        "parameters = [C, W1, B1, W2, B2]\n",
        "print(sum(p.nelement() for p in parameters))\n",
        "for p in parameters:\n",
        "  p.requires_grad = True"
      ],
      "metadata": {
        "colab": {
          "base_uri": "https://localhost:8080/"
        },
        "id": "Q5mAxGwUf63_",
        "outputId": "9496d447-64ec-4603-c0c4-380cca542020"
      },
      "execution_count": 136,
      "outputs": [
        {
          "output_type": "stream",
          "name": "stdout",
          "text": [
            "5953\n"
          ]
        }
      ]
    },
    {
      "cell_type": "code",
      "source": [
        "(5/3) / ((n_embed * block_size)**0.5)"
      ],
      "metadata": {
        "colab": {
          "base_uri": "https://localhost:8080/"
        },
        "id": "lEJ41IRsxgb-",
        "outputId": "76365fbb-82d4-49db-c57f-24f61e371de4"
      },
      "execution_count": 123,
      "outputs": [
        {
          "output_type": "execute_result",
          "data": {
            "text/plain": [
              "0.6804138174397718"
            ]
          },
          "metadata": {},
          "execution_count": 123
        }
      ]
    },
    {
      "cell_type": "code",
      "source": [
        "max_step = 10000\n",
        "batch_size = 32\n",
        "lossi = []\n",
        "\n",
        "for i in range(max_step):\n",
        "  #minibatch\n",
        "  ix = torch.randint(0, Xtr.shape[0], (batch_size,))\n",
        "  Xb = Xtr[ix]\n",
        "  Yb = Ytr[ix]\n",
        "\n",
        "  # forward pass\n",
        "  emb = C[Xb]\n",
        "  embcat = emb.view(emb.shape[0], -1)\n",
        "  hpreact = embcat @ W1 #+ B1\n",
        "  bnmeani = hpreact.mean(0, keepdim=True)\n",
        "  bnstdi = hpreact.std(0, keepdim=True)\n",
        "  hpreact = bngain * (hpreact - bnmeani) / bnstdi + bnbias\n",
        "\n",
        "  with torch.no_grad():\n",
        "    bnmean_running = 0.999 * bnmean_running + 0.001 * bnmeani\n",
        "    bnstd_running = 0.999 * bnstd_running + 0.001 * bnstdi\n",
        "\n",
        "\n",
        "  h = torch.tanh(hpreact)\n",
        "  logits = h @ W2 + B2\n",
        "  loss = F.cross_entropy(logits, Yb)\n",
        "\n",
        "  # backward pass\n",
        "  for p in parameters:\n",
        "    p.grad = None\n",
        "  loss.backward()\n",
        "\n",
        "  # update\n",
        "  lr = 0.1 if i < 7000 else 0.01\n",
        "  for p in parameters:\n",
        "    p.data += -lr * p.grad\n",
        "\n",
        "  # track stats\n",
        "  if i % 1000 == 0:\n",
        "    print(f'{i:7d}/{max_step:7d} : {loss.item():4f}')\n",
        "  lossi.append(loss.log10().item())\n",
        "  # break"
      ],
      "metadata": {
        "colab": {
          "base_uri": "https://localhost:8080/"
        },
        "id": "E01P3mkzhLar",
        "outputId": "9d163509-36a1-4638-f3ab-7601d094cc50"
      },
      "execution_count": 137,
      "outputs": [
        {
          "output_type": "stream",
          "name": "stdout",
          "text": [
            "      0/  10000 : 3.930095\n",
            "   1000/  10000 : 2.832633\n",
            "   2000/  10000 : 2.478164\n",
            "   3000/  10000 : 2.228528\n",
            "   4000/  10000 : 2.113358\n",
            "   5000/  10000 : 2.297173\n",
            "   6000/  10000 : 1.920719\n",
            "   7000/  10000 : 1.834239\n",
            "   8000/  10000 : 2.229421\n",
            "   9000/  10000 : 2.345275\n"
          ]
        }
      ]
    },
    {
      "cell_type": "code",
      "source": [
        "plt.plot(lossi)"
      ],
      "metadata": {
        "colab": {
          "base_uri": "https://localhost:8080/",
          "height": 448
        },
        "id": "TxuDBjsvjzJj",
        "outputId": "4baf3e26-bb3c-4513-ad25-47e87bd86ae1"
      },
      "execution_count": 130,
      "outputs": [
        {
          "output_type": "execute_result",
          "data": {
            "text/plain": [
              "[<matplotlib.lines.Line2D at 0x7addbd56a210>]"
            ]
          },
          "metadata": {},
          "execution_count": 130
        },
        {
          "output_type": "display_data",
          "data": {
            "text/plain": [
              "<Figure size 640x480 with 1 Axes>"
            ],
            "image/png": "[encoded data removed]"
          },
          "metadata": {}
        }
      ]
    },
    {
      "cell_type": "code",
      "source": [
        "@torch.no_grad()\n",
        "def split_loss(split):\n",
        "  x, y = {\n",
        "    'train': (Xtr, Ytr),\n",
        "    'dev': (Xdev, Ydev),\n",
        "    'test': (Xte, Yte),\n",
        "  }[split]\n",
        "  emb = C[x]\n",
        "  embcat = emb.view(emb.shape[0], -1)\n",
        "  hpreact = embcat @ W1 + B1\n",
        "  hpreact = bngain * (hpreact - bnmean_running) / bnstd_running + bnbias\n",
        "  h = torch.tanh(hpreact)\n",
        "  logits = h @ W2 + B2\n",
        "  loss = F.cross_entropy(logits, y)\n",
        "  print(split, loss.item())\n",
        "\n",
        "split_loss('train')\n",
        "split_loss('dev')"
      ],
      "metadata": {
        "colab": {
          "base_uri": "https://localhost:8080/"
        },
        "id": "Yi7RMVxPioe5",
        "outputId": "fe6bab30-6ed7-43a8-c9bf-89cf0e3442f8"
      },
      "execution_count": 144,
      "outputs": [
        {
          "output_type": "stream",
          "name": "stdout",
          "text": [
            "train 2.984360694885254\n",
            "dev 3.078185796737671\n"
          ]
        }
      ]
    },
    {
      "cell_type": "code",
      "source": [
        "#sample from the model\n",
        "g = torch.Generator().manual_seed(2147483647 + 10)\n",
        "\n",
        "for _ in range(20):\n",
        "  out = []\n",
        "  context = [0] * block_size\n",
        "  while True:\n",
        "    emb = C[torch.tensor([context])]\n",
        "    h = torch.tanh(emb.view(1, -1) @ W1 + B1)\n",
        "    logits = h @ W2 + B2\n",
        "    probs = F.softmax(logits, dim=1)\n",
        "    ix = torch.multinomial(probs, num_samples=1, replacement=True, generator=g).item()\n",
        "    context = context[1:] + [ix]\n",
        "    out.append(ix)\n",
        "    if ix == 0:\n",
        "      break\n",
        "  print(''.join(itos[i] for i in out))"
      ],
      "metadata": {
        "colab": {
          "base_uri": "https://localhost:8080/"
        },
        "id": "2qJSuYZhklGr",
        "outputId": "20918270-65d8-4f25-8693-8225bfd47869"
      },
      "execution_count": 132,
      "outputs": [
        {
          "output_type": "stream",
          "name": "stdout",
          "text": [
            "Bnting.\n",
            "Plp.\n",
            "fer.\n",
            "Ieting.\n",
            "udtoc.\n",
            "wring.\n",
            "e.\n",
            "lLtirgutegtosmentelalbelkenutBwtacy.\n",
            "hirg.\n",
            "Vnty.\n",
            "cumginesatcing.\n",
            "Cetesrceetals.\n",
            "b.\n",
            "jetking.\n",
            "Acs.\n",
            "anc.\n",
            "tegs.\n",
            "dclocmenc.\n",
            "Pnt.\n",
            "acthcelkcerer.\n"
          ]
        }
      ]
    }
  ]
}