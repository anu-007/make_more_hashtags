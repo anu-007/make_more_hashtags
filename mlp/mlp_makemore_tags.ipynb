{
  "nbformat": 4,
  "nbformat_minor": 0,
  "metadata": {
    "colab": {
      "provenance": [],
      "authorship_tag": "ABX9TyN5QoaPlMNwGAjRxmzIKI1k",
      "include_colab_link": true
    },
    "kernelspec": {
      "name": "python3",
      "display_name": "Python 3"
    },
    "language_info": {
      "name": "python"
    }
  },
  "cells": [
    {
      "cell_type": "markdown",
      "metadata": {
        "id": "view-in-github",
        "colab_type": "text"
      },
      "source": [
        "<a href=\"https://colab.research.google.com/github/anu-007/make_more_hashtags/blob/main/mlp/mlp_makemore_tags.ipynb\" target=\"_parent\"><img src=\"https://colab.research.google.com/assets/colab-badge.svg\" alt=\"Open In Colab\"/></a>"
      ]
    },
    {
      "cell_type": "code",
      "execution_count": 2,
      "metadata": {
        "id": "Bmk400ROIcFN"
      },
      "outputs": [],
      "source": [
        "# load data and prepare vocab\n",
        "import json\n",
        "\n",
        "tags = []\n",
        "with open('tags.json', 'r') as file:\n",
        "  data = json.load(file)\n",
        "  for d in data:\n",
        "    tags.append(d[0])\n",
        "\n",
        "vocab = sorted(list(set(''.join(tags))))\n",
        "stoi = {s:i+1 for i, s in enumerate(vocab)}\n",
        "stoi['.'] = 0\n",
        "itos = {i:s for s, i in stoi.items()}"
      ]
    },
    {
      "cell_type": "code",
      "source": [
        "# build dataset\n",
        "import torch\n",
        "import matplotlib.pyplot as plt\n",
        "import torch.nn.functional as F\n",
        "%matplotlib inline\n",
        "\n",
        "batch_size = 3\n",
        "X, Y = [], []\n",
        "for tag in tags[:3]:\n",
        "  context = [0] * batch_size\n",
        "  for ch in tag + '.':\n",
        "    ix = stoi[ch]\n",
        "    X.append(context)\n",
        "    Y.append(ix)\n",
        "    print(''.join(itos[c] for c in context), '===>', itos[ix])\n",
        "    context = context[1:] + [ix]\n",
        "\n",
        "X = torch.tensor(X)\n",
        "Y = torch.tensor(Y)"
      ],
      "metadata": {
        "colab": {
          "base_uri": "https://localhost:8080/"
        },
        "collapsed": true,
        "id": "N146vdhMHlqI",
        "outputId": "b6173f0b-f445-40e1-c7c2-0ca7964ce4d3"
      },
      "execution_count": 30,
      "outputs": [
        {
          "output_type": "stream",
          "name": "stdout",
          "text": [
            "... ===> h\n",
            "..h ===> i\n",
            ".hi ===> r\n",
            "hir ===> i\n",
            "iri ===> n\n",
            "rin ===> g\n",
            "ing ===> .\n",
            "... ===> e\n",
            "..e ===> n\n",
            ".en ===> g\n",
            "eng ===> i\n",
            "ngi ===> n\n",
            "gin ===> e\n",
            "ine ===> e\n",
            "nee ===> r\n",
            "eer ===> i\n",
            "eri ===> n\n",
            "rin ===> g\n",
            "ing ===> j\n",
            "ngj ===> o\n",
            "gjo ===> b\n",
            "job ===> s\n",
            "obs ===> .\n",
            "... ===> h\n",
            "..h ===> a\n",
            ".ha ===> r\n",
            "har ===> d\n",
            "ard ===> w\n",
            "rdw ===> a\n",
            "dwa ===> r\n",
            "war ===> e\n",
            "are ===> .\n"
          ]
        }
      ]
    },
    {
      "cell_type": "code",
      "source": [
        "# test, train, dev split for dataset\n",
        "batch_size = 3\n",
        "def build_dataset(tags):\n",
        "  X, Y = [], []\n",
        "  for tag in tags:\n",
        "    context = [0] * batch_size\n",
        "    for ch in tag + '.':\n",
        "      ix = stoi[ch]\n",
        "      X.append(context)\n",
        "      Y.append(ix)\n",
        "      context = context[1:] + [ix]\n",
        "\n",
        "  X = torch.tensor(X)\n",
        "  Y = torch.tensor(Y)\n",
        "  print(X.shape, Y.shape)\n",
        "  return X, Y\n",
        "\n",
        "import random\n",
        "random.seed(42)\n",
        "random.shuffle(tags)\n",
        "n1 = int(0.8*len(tags))\n",
        "n2 = int(0.9*len(tags))\n",
        "\n",
        "Xtr, Ytr = build_dataset(tags[:n1])\n",
        "Xdev, Ydev = build_dataset(tags[n1:n2])\n",
        "Xte, Yte = build_dataset(tags[n2:])"
      ],
      "metadata": {
        "colab": {
          "base_uri": "https://localhost:8080/"
        },
        "id": "9pf4m2v-PS_n",
        "outputId": "9b7bc40e-8d63-4f5a-cbd7-2829a639e7c6"
      },
      "execution_count": 37,
      "outputs": [
        {
          "output_type": "stream",
          "name": "stdout",
          "text": [
            "torch.Size([6545, 3]) torch.Size([6545])\n",
            "torch.Size([870, 3]) torch.Size([870])\n",
            "torch.Size([864, 3]) torch.Size([864])\n"
          ]
        }
      ]
    },
    {
      "cell_type": "code",
      "source": [
        "# create embeddings\n",
        "vocab_len = max(stoi.values()) + 1\n",
        "\n",
        "g = torch.Generator().manual_seed(2147483647)\n",
        "C = torch.randn((vocab_len, 2))\n",
        "W1 = torch.randn((6, 300), generator=g)\n",
        "B1 = torch.randn(300, generator=g)\n",
        "W2 = torch.randn((300, vocab_len), generator=g)\n",
        "B2 = torch.randn(vocab_len, generator=g)\n",
        "parameters = [C, W1, B1, W2, B2]"
      ],
      "metadata": {
        "id": "-tVdGKaFKOqf"
      },
      "execution_count": 49,
      "outputs": []
    },
    {
      "cell_type": "code",
      "source": [
        "for p in parameters:\n",
        "  p.requires_grad = True\n",
        "\n",
        "lre = torch.linspace(-3, 0, 1000)\n",
        "lrs = 10**lre"
      ],
      "metadata": {
        "id": "gweQzBd0Lu6r"
      },
      "execution_count": 50,
      "outputs": []
    },
    {
      "cell_type": "code",
      "source": [
        "lri = []\n",
        "lossi = []\n",
        "stepi = []\n",
        "for i in range(30000):\n",
        "  #minibatch\n",
        "  ix = torch.randint(0, Xtr.shape[0], (vocab_len,))\n",
        "\n",
        "  # forward pass\n",
        "  emb = C[Xtr[ix]]\n",
        "  h = torch.tanh(emb.view(-1, 6) @ W1 + B1)\n",
        "  logits = h @ W2 + B2\n",
        "  loss = F.cross_entropy(logits, Ytr[ix])\n",
        "  # print(loss.item())\n",
        "\n",
        "  # backward pass\n",
        "  for p in parameters:\n",
        "    p.grad = None\n",
        "  loss.backward()\n",
        "\n",
        "  # update\n",
        "  # lr = lrs[i]\n",
        "  lr = 10**-1.2\n",
        "  for p in parameters:\n",
        "    p.data += -lr * p.grad\n",
        "\n",
        "  # track stats\n",
        "  stepi.append(i)\n",
        "  # lri.append(lre[i])\n",
        "  lossi.append(loss.item())\n",
        "print(loss.item())"
      ],
      "metadata": {
        "colab": {
          "base_uri": "https://localhost:8080/"
        },
        "collapsed": true,
        "id": "7CdHfeRrNNnU",
        "outputId": "f16554f4-3210-44c6-c21e-47c0a5cd357b"
      },
      "execution_count": 52,
      "outputs": [
        {
          "output_type": "stream",
          "name": "stdout",
          "text": [
            "1.3345823287963867\n"
          ]
        }
      ]
    },
    {
      "cell_type": "code",
      "source": [
        "plt.plot(stepi, lossi)"
      ],
      "metadata": {
        "colab": {
          "base_uri": "https://localhost:8080/",
          "height": 448
        },
        "id": "4ofrrdYVPLsu",
        "outputId": "246c9945-a238-42ff-fe20-607d6abe3e60"
      },
      "execution_count": 53,
      "outputs": [
        {
          "output_type": "execute_result",
          "data": {
            "text/plain": [
              "[<matplotlib.lines.Line2D at 0x7aba66181bb0>]"
            ]
          },
          "metadata": {},
          "execution_count": 53
        },
        {
          "output_type": "display_data",
          "data": {
            "text/plain": [
              "<Figure size 640x480 with 1 Axes>"
            ],
            "image/png": "[encoded data removed]"
          },
          "metadata": {}
        }
      ]
    },
    {
      "cell_type": "code",
      "source": [
        "emb = C[Xtr]\n",
        "h = torch.tanh(emb.view(-1, 6)@W1 + B1)\n",
        "logits = h @ W2 + B2\n",
        "loss = F.cross_entropy(logits, Ytr)\n",
        "loss.item()"
      ],
      "metadata": {
        "colab": {
          "base_uri": "https://localhost:8080/"
        },
        "id": "UdKYevLcR3_4",
        "outputId": "66b40137-b5d1-4d46-9979-29a632e4a34a"
      },
      "execution_count": 54,
      "outputs": [
        {
          "output_type": "execute_result",
          "data": {
            "text/plain": [
              "1.3617284297943115"
            ]
          },
          "metadata": {},
          "execution_count": 54
        }
      ]
    },
    {
      "cell_type": "code",
      "source": [
        "emb = C[Xdev]\n",
        "h = torch.tanh(emb.view(-1, 6)@W1 + B1)\n",
        "logits = h @ W2 + B2\n",
        "loss = F.cross_entropy(logits, Ydev)\n",
        "loss.item()"
      ],
      "metadata": {
        "colab": {
          "base_uri": "https://localhost:8080/"
        },
        "id": "Ed5BPuOsOkAd",
        "outputId": "c1fc38d3-2630-43ad-dac7-bae0a1378daf"
      },
      "execution_count": 55,
      "outputs": [
        {
          "output_type": "execute_result",
          "data": {
            "text/plain": [
              "2.5611884593963623"
            ]
          },
          "metadata": {},
          "execution_count": 55
        }
      ]
    },
    {
      "cell_type": "code",
      "source": [
        "#sample from the model\n",
        "g = torch.Generator().manual_seed(2147483647 + 10)\n",
        "\n",
        "for _ in range(20):\n",
        "  out = []\n",
        "  context = [0] * batch_size\n",
        "  while True:\n",
        "    emb = C[torch.tensor([context])]\n",
        "    h = torch.tanh(emb.view(1, -1) @ W1 + B1)\n",
        "    logits = h @ W2 + B2\n",
        "    probs = F.softmax(logits, dim=1)\n",
        "    ix = torch.multinomial(probs, num_samples=1, replacement=True, generator=g).item()\n",
        "    context = context[1:] + [ix]\n",
        "    out.append(ix)\n",
        "    if ix == 0:\n",
        "      break\n",
        "  print(''.join(itos[i] for i in out))\n"
      ],
      "metadata": {
        "colab": {
          "base_uri": "https://localhost:8080/"
        },
        "id": "jUwXo7kBSyXx",
        "outputId": "1edf9be1-b509-4552-dd68-d97e67ad8a58"
      },
      "execution_count": 56,
      "outputs": [
        {
          "output_type": "stream",
          "name": "stdout",
          "text": [
            "Bealentrrpualrustate.\n",
            "fuccomentL.\n",
            "digitation.\n",
            "Animation.\n",
            "webketorshustatechilition.\n",
            "cyberationsaconowbies.\n",
            "softecapility.\n",
            "weigata.\n",
            "Communitionds.\n",
            "zery.\n",
            "Publicy.\n",
            "Giceecserexpumity.\n",
            "Wilareecources.\n",
            "Gretings.\n",
            "in.\n",
            "hurtoractivity.\n",
            "movicectunityetograpirs.\n",
            "certy.\n",
            "movilmFevoutureoleerpuacity.\n",
            "progeventAffpurity.\n"
          ]
        }
      ]
    }
  ]
}